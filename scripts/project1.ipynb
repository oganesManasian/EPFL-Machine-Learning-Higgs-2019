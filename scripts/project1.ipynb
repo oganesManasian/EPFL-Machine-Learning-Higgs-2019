{
 "cells": [
  {
   "cell_type": "code",
   "execution_count": 1,
   "metadata": {
    "pycharm": {
     "is_executing": false
    }
   },
   "outputs": [],
   "source": [
    "# Useful starting lines\n",
    "%matplotlib inline\n",
    "import numpy as np\n",
    "import matplotlib.pyplot as plt\n",
    "import seaborn as sns\n",
    "%load_ext autoreload\n",
    "%autoreload 2"
   ]
  },
  {
   "cell_type": "code",
   "execution_count": 2,
   "metadata": {},
   "outputs": [],
   "source": [
    "from implementations import *\n",
    "from helpers import *\n",
    "from preprocessing_data import *\n",
    "import pandas as pd"
   ]
  },
  {
   "cell_type": "code",
   "execution_count": 3,
   "metadata": {},
   "outputs": [],
   "source": [
    "pd.set_option('display.max_colwidth', 100)"
   ]
  },
  {
   "cell_type": "markdown",
   "metadata": {},
   "source": [
    "## Load the training data into feature matrix, class labels, and event ids:"
   ]
  },
  {
   "cell_type": "code",
   "execution_count": 4,
   "metadata": {
    "pycharm": {
     "is_executing": false
    }
   },
   "outputs": [],
   "source": [
    "DATA_TRAIN_PATH = \"../data/train.csv\"\n",
    "y, tX, ids = load_csv_data(DATA_TRAIN_PATH)"
   ]
  },
  {
   "cell_type": "code",
   "execution_count": 5,
   "metadata": {},
   "outputs": [],
   "source": [
    "feature_names = init_feature_names.copy()"
   ]
  },
  {
   "cell_type": "markdown",
   "metadata": {},
   "source": [
    "## Do your thing crazy machine learning thing here :) ..."
   ]
  },
  {
   "cell_type": "markdown",
   "metadata": {},
   "source": [
    "### Data analysis"
   ]
  },
  {
   "cell_type": "markdown",
   "metadata": {},
   "source": [
    "#### Missing data analysis"
   ]
  },
  {
   "cell_type": "code",
   "execution_count": 6,
   "metadata": {
    "pycharm": {
     "is_executing": false
    }
   },
   "outputs": [
    {
     "name": "stdout",
     "output_type": "stream",
     "text": [
      "Total number of missing values: 1580052\n",
      "Number of rows with >=1 missing value: 181891\n"
     ]
    }
   ],
   "source": [
    "missing_values_row_indices = np.where(tX == -999)\n",
    "print(\"Total number of missing values:\", missing_values_row_indices[0].shape[0])\n",
    "print(\"Number of rows with >=1 missing value:\", np.unique(missing_values_row_indices).shape[0])"
   ]
  },
  {
   "cell_type": "code",
   "execution_count": 7,
   "metadata": {
    "pycharm": {
     "is_executing": false
    },
    "scrolled": false
   },
   "outputs": [],
   "source": [
    "# Find features with missing values\n",
    "missing_values_feature_indices = np.vstack([np.argwhere(row == -999) for row in tX])\n",
    "missing_values_feature_indices, occur_count = np.unique(missing_values_feature_indices, return_counts=True)"
   ]
  },
  {
   "cell_type": "code",
   "execution_count": 8,
   "metadata": {},
   "outputs": [],
   "source": [
    "explanations = [\"May be undefined if the topology of the event is too far from the expected topology\",\n",
    "                \"Undefined if PRI_jet_num ≤ 1\",\n",
    "                \"Undefined if PRI_jet_num ≤ 1\",\n",
    "                \"Undefined if PRI_jet_num ≤ 1\",\n",
    "                \"Undefined if PRI_jet_num ≤ 1\",\n",
    "                \"Undefined if PRI_jet_num = 0\",\n",
    "                \"Undefined if PRI_jet_num = 0\",\n",
    "                \"Undefined if PRI_jet_num = 0\",\n",
    "                \"Undefined if PRI_jet_num ≤ 1\",\n",
    "                \"Undefined if PRI_jet_num ≤ 1\",\n",
    "                \"Undefined if PRI_jet_num ≤ 1\"]"
   ]
  },
  {
   "cell_type": "code",
   "execution_count": 9,
   "metadata": {},
   "outputs": [
    {
     "data": {
      "text/html": [
       "<div>\n",
       "<style scoped>\n",
       "    .dataframe tbody tr th:only-of-type {\n",
       "        vertical-align: middle;\n",
       "    }\n",
       "\n",
       "    .dataframe tbody tr th {\n",
       "        vertical-align: top;\n",
       "    }\n",
       "\n",
       "    .dataframe thead th {\n",
       "        text-align: right;\n",
       "    }\n",
       "</style>\n",
       "<table border=\"1\" class=\"dataframe\">\n",
       "  <thead>\n",
       "    <tr style=\"text-align: right;\">\n",
       "      <th></th>\n",
       "      <th>Feature name</th>\n",
       "      <th>Feature index</th>\n",
       "      <th>Missing values count</th>\n",
       "      <th>Explanations</th>\n",
       "    </tr>\n",
       "  </thead>\n",
       "  <tbody>\n",
       "    <tr>\n",
       "      <th>0</th>\n",
       "      <td>DER_mass_MMC</td>\n",
       "      <td>0</td>\n",
       "      <td>38114</td>\n",
       "      <td>May be undefined if the topology of the event is too far from the expected topology</td>\n",
       "    </tr>\n",
       "    <tr>\n",
       "      <th>1</th>\n",
       "      <td>DER_deltaeta_jet_jet</td>\n",
       "      <td>4</td>\n",
       "      <td>177457</td>\n",
       "      <td>Undefined if PRI_jet_num ≤ 1</td>\n",
       "    </tr>\n",
       "    <tr>\n",
       "      <th>2</th>\n",
       "      <td>DER_mass_jet_jet</td>\n",
       "      <td>5</td>\n",
       "      <td>177457</td>\n",
       "      <td>Undefined if PRI_jet_num ≤ 1</td>\n",
       "    </tr>\n",
       "    <tr>\n",
       "      <th>3</th>\n",
       "      <td>DER_prodeta_jet_jet</td>\n",
       "      <td>6</td>\n",
       "      <td>177457</td>\n",
       "      <td>Undefined if PRI_jet_num ≤ 1</td>\n",
       "    </tr>\n",
       "    <tr>\n",
       "      <th>4</th>\n",
       "      <td>DER_lep_eta_centrality</td>\n",
       "      <td>12</td>\n",
       "      <td>177457</td>\n",
       "      <td>Undefined if PRI_jet_num ≤ 1</td>\n",
       "    </tr>\n",
       "    <tr>\n",
       "      <th>5</th>\n",
       "      <td>PRI_jet_leading_pt</td>\n",
       "      <td>23</td>\n",
       "      <td>99913</td>\n",
       "      <td>Undefined if PRI_jet_num = 0</td>\n",
       "    </tr>\n",
       "    <tr>\n",
       "      <th>6</th>\n",
       "      <td>PRI_jet_leading_eta</td>\n",
       "      <td>24</td>\n",
       "      <td>99913</td>\n",
       "      <td>Undefined if PRI_jet_num = 0</td>\n",
       "    </tr>\n",
       "    <tr>\n",
       "      <th>7</th>\n",
       "      <td>PRI_jet_leading_phi</td>\n",
       "      <td>25</td>\n",
       "      <td>99913</td>\n",
       "      <td>Undefined if PRI_jet_num = 0</td>\n",
       "    </tr>\n",
       "    <tr>\n",
       "      <th>8</th>\n",
       "      <td>PRI_jet_subleading_pt</td>\n",
       "      <td>26</td>\n",
       "      <td>177457</td>\n",
       "      <td>Undefined if PRI_jet_num ≤ 1</td>\n",
       "    </tr>\n",
       "    <tr>\n",
       "      <th>9</th>\n",
       "      <td>PRI_jet_subleading_eta</td>\n",
       "      <td>27</td>\n",
       "      <td>177457</td>\n",
       "      <td>Undefined if PRI_jet_num ≤ 1</td>\n",
       "    </tr>\n",
       "    <tr>\n",
       "      <th>10</th>\n",
       "      <td>PRI_jet_subleading_phi</td>\n",
       "      <td>28</td>\n",
       "      <td>177457</td>\n",
       "      <td>Undefined if PRI_jet_num ≤ 1</td>\n",
       "    </tr>\n",
       "  </tbody>\n",
       "</table>\n",
       "</div>"
      ],
      "text/plain": [
       "              Feature name  Feature index  Missing values count  \\\n",
       "0             DER_mass_MMC              0                 38114   \n",
       "1     DER_deltaeta_jet_jet              4                177457   \n",
       "2         DER_mass_jet_jet              5                177457   \n",
       "3      DER_prodeta_jet_jet              6                177457   \n",
       "4   DER_lep_eta_centrality             12                177457   \n",
       "5       PRI_jet_leading_pt             23                 99913   \n",
       "6      PRI_jet_leading_eta             24                 99913   \n",
       "7      PRI_jet_leading_phi             25                 99913   \n",
       "8    PRI_jet_subleading_pt             26                177457   \n",
       "9   PRI_jet_subleading_eta             27                177457   \n",
       "10  PRI_jet_subleading_phi             28                177457   \n",
       "\n",
       "                                                                           Explanations  \n",
       "0   May be undefined if the topology of the event is too far from the expected topology  \n",
       "1                                                          Undefined if PRI_jet_num ≤ 1  \n",
       "2                                                          Undefined if PRI_jet_num ≤ 1  \n",
       "3                                                          Undefined if PRI_jet_num ≤ 1  \n",
       "4                                                          Undefined if PRI_jet_num ≤ 1  \n",
       "5                                                          Undefined if PRI_jet_num = 0  \n",
       "6                                                          Undefined if PRI_jet_num = 0  \n",
       "7                                                          Undefined if PRI_jet_num = 0  \n",
       "8                                                          Undefined if PRI_jet_num ≤ 1  \n",
       "9                                                          Undefined if PRI_jet_num ≤ 1  \n",
       "10                                                         Undefined if PRI_jet_num ≤ 1  "
      ]
     },
     "execution_count": 9,
     "metadata": {},
     "output_type": "execute_result"
    }
   ],
   "source": [
    "# More beautiful way way to print\n",
    "pd.DataFrame({\"Feature name\": feature_names[missing_values_feature_indices], \n",
    "              \"Feature index\": missing_values_feature_indices,\n",
    "              \"Missing values count\": occur_count,\n",
    "              \"Explanations\": explanations})"
   ]
  },
  {
   "cell_type": "code",
   "execution_count": 10,
   "metadata": {},
   "outputs": [],
   "source": [
    "missing_values_row_indices = [ind for ind in range(tX.shape[0]) if -999 in tX[ind]]"
   ]
  },
  {
   "cell_type": "code",
   "execution_count": null,
   "metadata": {},
   "outputs": [],
   "source": []
  },
  {
   "cell_type": "markdown",
   "metadata": {},
   "source": [
    "#### Features distribution"
   ]
  },
  {
   "cell_type": "code",
   "execution_count": 11,
   "metadata": {},
   "outputs": [
    {
     "data": {
      "application/vnd.jupyter.widget-view+json": {
       "model_id": "b070eaf919d64c46b1105b498c7c9324",
       "version_major": 2,
       "version_minor": 0
      },
      "text/plain": [
       "interactive(children=(BoundedIntText(value=0, description='Feature index:', max=29), Checkbox(value=False, des…"
      ]
     },
     "metadata": {},
     "output_type": "display_data"
    }
   ],
   "source": [
    "interact_feature_hist(tX, y, feature_names)"
   ]
  },
  {
   "cell_type": "markdown",
   "metadata": {},
   "source": [
    "#### Investigate PRI_jet_num feature (integer, 4 categories)"
   ]
  },
  {
   "cell_type": "markdown",
   "metadata": {},
   "source": [
    "PRI_jet_num has only 4 unique values, so we can consider that this feature is categorical. Lets see distribution of features according to PRI_jet_num values"
   ]
  },
  {
   "cell_type": "code",
   "execution_count": 12,
   "metadata": {},
   "outputs": [
    {
     "data": {
      "application/vnd.jupyter.widget-view+json": {
       "model_id": "0a9a4f9f183244fb9d83779f820bc53b",
       "version_major": 2,
       "version_minor": 0
      },
      "text/plain": [
       "interactive(children=(BoundedIntText(value=0, description='Feature index:', max=29), Checkbox(value=False, des…"
      ]
     },
     "metadata": {},
     "output_type": "display_data"
    }
   ],
   "source": [
    "jet_num_index = 22\n",
    "\n",
    "def plot_feature_hist(feature_ind, drop_nan, jet_num):   \n",
    "    indices_jet_num = [ind for ind in range(tX.shape[0]) if tX[ind, jet_num_index] == jet_num]\n",
    "    tX_plot = tX[indices_jet_num]\n",
    "    y_plot = y[indices_jet_num]\n",
    "    \n",
    "    indices_class_pos = np.where(y_plot==1)\n",
    "    indices_class_neg = np.where(y_plot==-1)\n",
    "    \n",
    "    tX_pos = tX_plot[indices_class_pos, feature_ind]\n",
    "    tX_neg = tX_plot[indices_class_neg, feature_ind]\n",
    "\n",
    "    if drop_nan:\n",
    "        tX_pos = tX_pos[tX_pos != -999]\n",
    "        tX_neg = tX_neg[tX_neg != -999]\n",
    "\n",
    "    plt.figure(figsize=(15, 6), dpi=80)\n",
    "    plt.subplot(1, 2, 1)\n",
    "    plt.title(feature_names[feature_ind] + f\" (Feature #{feature_ind})\")\n",
    "    plt.hist(tX_pos.T, bins=100, color=\"r\", label=\"+1\")\n",
    "    plt.hist(tX_neg.T, bins=100, color=\"b\", label=\"-1\")\n",
    "    plt.legend()\n",
    "    \n",
    "    plt.subplot(1, 2, 2)\n",
    "    plt.title(feature_names[feature_ind] + f\" (Feature #{feature_ind})\")\n",
    "    plt.hist(tX_neg.T, bins=100, color=\"b\", label=\"-1\")\n",
    "    plt.hist(tX_pos.T, bins=100, color=\"r\", label=\"+1\")\n",
    "    plt.legend()\n",
    "    \n",
    "interact(plot_feature_hist, \n",
    "         feature_ind=widgets.BoundedIntText(value=0, min=0, max=29, step=1, description='Feature index:', disabled=False),\n",
    "         jet_num=widgets.BoundedIntText(value=0, min=0, max=3, step=1, description='Jet num value:', disabled=False),\n",
    "         drop_nan=widgets.Checkbox(value=False, description='Drop missing values', disabled=False)\n",
    "        )\n",
    "plt.show()"
   ]
  },
  {
   "cell_type": "markdown",
   "metadata": {},
   "source": [
    "We see that value of jet num influences on number of missing values. Now we have to options:\n",
    "* Divide our dataset on 4 parts according to PRI_jet_num values\n",
    "* Create 4 boolean features instead of 1 categorical  "
   ]
  },
  {
   "cell_type": "markdown",
   "metadata": {},
   "source": [
    "#### Compute features correlation"
   ]
  },
  {
   "cell_type": "code",
   "execution_count": 13,
   "metadata": {},
   "outputs": [],
   "source": [
    "# If we calculate with missing values, then columns with missing data will be significantly correlated\n",
    "rows_without_missing_data = list(set(range(tX.shape[0])) - set(missing_values_row_indices))\n",
    "tX_without_rows_with_missing_data = tX[rows_without_missing_data, :]\n",
    "y_without_rows_with_missing_data = y[rows_without_missing_data]"
   ]
  },
  {
   "cell_type": "code",
   "execution_count": 14,
   "metadata": {},
   "outputs": [],
   "source": [
    "# Compute correlation of features in dataset without missing data\n",
    "n_features = tX_without_rows_with_missing_data.shape[1]\n",
    "corr_matrix = np.zeros((n_features, n_features))\n",
    "for i in range(n_features):\n",
    "    for j in range(i, n_features):\n",
    "        corr_matrix[i, j] = corr_matrix[j, i] = np.corrcoef(tX_without_rows_with_missing_data[:, i], \n",
    "                                                            tX_without_rows_with_missing_data[:, j])[0,1]"
   ]
  },
  {
   "cell_type": "code",
   "execution_count": 15,
   "metadata": {
    "scrolled": false
   },
   "outputs": [
    {
     "data": {
      "image/png": "[encoded data removed]",
      "text/plain": [
       "<Figure size 1440x720 with 2 Axes>"
      ]
     },
     "metadata": {
      "needs_background": "light"
     },
     "output_type": "display_data"
    }
   ],
   "source": [
    "plt.figure(figsize=(20,10))\n",
    "sns.heatmap(np.abs(np.round(corr_matrix, decimals=2)),annot=True)\n",
    "plt.show()"
   ]
  },
  {
   "cell_type": "markdown",
   "metadata": {},
   "source": [
    "We can find some correlated features (corr >= 0.8), lets list them:"
   ]
  },
  {
   "cell_type": "code",
   "execution_count": 16,
   "metadata": {
    "scrolled": true
   },
   "outputs": [
    {
     "data": {
      "text/plain": [
       "[(0, 2), (9, 21), (9, 23), (9, 29), (21, 23), (21, 29), (23, 29)]"
      ]
     },
     "execution_count": 16,
     "metadata": {},
     "output_type": "execute_result"
    }
   ],
   "source": [
    "correlated_features = np.where(corr_matrix >= 0.8)\n",
    "correlated_features = [(i, j) for (i, j) in zip(correlated_features[0], correlated_features[1]) if i < j]\n",
    "correlated_features"
   ]
  },
  {
   "cell_type": "markdown",
   "metadata": {},
   "source": [
    "So correlated are features\n",
    "* 0, 2\n",
    "* 9, 21, 23, 29"
   ]
  },
  {
   "cell_type": "markdown",
   "metadata": {},
   "source": [
    "#### Lets have a look at balance of data"
   ]
  },
  {
   "cell_type": "code",
   "execution_count": 17,
   "metadata": {
    "scrolled": false
   },
   "outputs": [
    {
     "data": {
      "image/png": "[encoded data removed]",
      "text/plain": [
       "<Figure size 432x288 with 1 Axes>"
      ]
     },
     "metadata": {
      "needs_background": "light"
     },
     "output_type": "display_data"
    }
   ],
   "source": [
    "unique, count = np.unique(y, return_counts=True)\n",
    "plt.bar(unique, count)\n",
    "plt.xticks(unique)\n",
    "plt.title(\"Raw data\")\n",
    "plt.show()"
   ]
  },
  {
   "cell_type": "markdown",
   "metadata": {},
   "source": [
    "The major class is -1 and is approximately twice as much as minor class"
   ]
  },
  {
   "cell_type": "markdown",
   "metadata": {},
   "source": [
    "#### Usefull variables"
   ]
  },
  {
   "cell_type": "code",
   "execution_count": 18,
   "metadata": {},
   "outputs": [],
   "source": [
    "missing_values_feature_indices = np.unique(np.vstack([np.argwhere(row == -999) for row in tX]))"
   ]
  },
  {
   "cell_type": "code",
   "execution_count": 19,
   "metadata": {},
   "outputs": [],
   "source": [
    "missing_values_row_indices = [ind for ind in range(tX.shape[0]) if -999 in tX[ind]]"
   ]
  },
  {
   "cell_type": "markdown",
   "metadata": {},
   "source": [
    "## Train"
   ]
  },
  {
   "cell_type": "markdown",
   "metadata": {},
   "source": [
    "Possible options and methods:\n",
    "* Add bias\n",
    "* Take log of features\n",
    "* Add degrees of features\n",
    "* Impute missing values\n",
    "* Drop outliers\n",
    "* Handle categorical feature (2 options)\n",
    "* Try diff functions from implementations\n",
    "* Use gradient instead of stochastic\n",
    "* Use normal distribution of initial w instead of zeros"
   ]
  },
  {
   "cell_type": "code",
   "execution_count": 20,
   "metadata": {},
   "outputs": [],
   "source": [
    "results = pd.DataFrame(columns=[\"Configuration\", \"Accuracy\"])"
   ]
  },
  {
   "cell_type": "code",
   "execution_count": 21,
   "metadata": {},
   "outputs": [],
   "source": [
    "np.random.seed(2019)"
   ]
  },
  {
   "cell_type": "markdown",
   "metadata": {},
   "source": [
    "#### Option 0 Raw data"
   ]
  },
  {
   "cell_type": "code",
   "execution_count": 22,
   "metadata": {},
   "outputs": [],
   "source": [
    "tX_tr, y_tr, tX_te, y_te = split_data(tX, y, ratio=0.8, seed=1)"
   ]
  },
  {
   "cell_type": "code",
   "execution_count": 23,
   "metadata": {},
   "outputs": [
    {
     "name": "stderr",
     "output_type": "stream",
     "text": [
      "C:\\Users\\Oganes\\Desktop\\EPFL\\Machine learning\\EPFL-Machine-Learning-Higgs-2019\\scripts\\implementations.py:210: RuntimeWarning: overflow encountered in exp\n",
      "  return 1 / (1 + np.exp(-z))\n",
      "C:\\Users\\Oganes\\Desktop\\EPFL\\Machine learning\\EPFL-Machine-Learning-Higgs-2019\\scripts\\implementations.py:234: RuntimeWarning: divide by zero encountered in log\n",
      "  loss = -np.mean((y * np.log(prob) + (1 - y) * np.log(1 - prob)))\n",
      "C:\\Users\\Oganes\\Desktop\\EPFL\\Machine learning\\EPFL-Machine-Learning-Higgs-2019\\scripts\\implementations.py:234: RuntimeWarning: invalid value encountered in multiply\n",
      "  loss = -np.mean((y * np.log(prob) + (1 - y) * np.log(1 - prob)))\n",
      "C:\\Users\\Oganes\\Anaconda3\\lib\\site-packages\\numpy\\core\\_methods.py:75: RuntimeWarning: invalid value encountered in reduce\n",
      "  ret = umr_sum(arr, axis, dtype, out, keepdims)\n"
     ]
    }
   ],
   "source": [
    "initial_w = np.zeros((tX_tr.shape[1]))\n",
    "max_iters = 100\n",
    "gamma = 0.01\n",
    "w, _ = logistic_regression(y_tr, tX_tr, initial_w, max_iters, gamma)\n",
    "y_pr = predict_labels(w, tX_te)\n",
    "acc_0 = compute_accuracy(y_te, y_pr)"
   ]
  },
  {
   "cell_type": "code",
   "execution_count": 24,
   "metadata": {},
   "outputs": [
    {
     "data": {
      "text/html": [
       "<div>\n",
       "<style scoped>\n",
       "    .dataframe tbody tr th:only-of-type {\n",
       "        vertical-align: middle;\n",
       "    }\n",
       "\n",
       "    .dataframe tbody tr th {\n",
       "        vertical-align: top;\n",
       "    }\n",
       "\n",
       "    .dataframe thead th {\n",
       "        text-align: right;\n",
       "    }\n",
       "</style>\n",
       "<table border=\"1\" class=\"dataframe\">\n",
       "  <thead>\n",
       "    <tr style=\"text-align: right;\">\n",
       "      <th></th>\n",
       "      <th>Configuration</th>\n",
       "      <th>Accuracy</th>\n",
       "    </tr>\n",
       "  </thead>\n",
       "  <tbody>\n",
       "    <tr>\n",
       "      <th>0</th>\n",
       "      <td>Raw data</td>\n",
       "      <td>0.6621</td>\n",
       "    </tr>\n",
       "  </tbody>\n",
       "</table>\n",
       "</div>"
      ],
      "text/plain": [
       "  Configuration  Accuracy\n",
       "0      Raw data    0.6621"
      ]
     },
     "execution_count": 24,
     "metadata": {},
     "output_type": "execute_result"
    }
   ],
   "source": [
    "results.loc[len(results)] = (\"Raw data\", acc_0)\n",
    "results"
   ]
  },
  {
   "cell_type": "markdown",
   "metadata": {},
   "source": [
    "#### Option 1 Add bias"
   ]
  },
  {
   "cell_type": "code",
   "execution_count": 25,
   "metadata": {},
   "outputs": [],
   "source": [
    "tX_1 = tX.copy()"
   ]
  },
  {
   "cell_type": "code",
   "execution_count": 26,
   "metadata": {},
   "outputs": [],
   "source": [
    "# Add bias\n",
    "tX_1 = np.hstack((tX_1, np.ones((tX_1.shape[0], 1))))\n",
    "feature_names_1 = np.append(feature_names, \"bias\")"
   ]
  },
  {
   "cell_type": "code",
   "execution_count": 27,
   "metadata": {},
   "outputs": [],
   "source": [
    "tX_tr, y_tr, tX_te, y_te = split_data(tX_1, y, ratio=0.8, seed=1)"
   ]
  },
  {
   "cell_type": "code",
   "execution_count": 28,
   "metadata": {},
   "outputs": [],
   "source": [
    "initial_w = np.zeros((tX_tr.shape[1]))\n",
    "max_iters = 100\n",
    "gamma = 0.01\n",
    "w, _ = logistic_regression(y_tr, tX_tr, initial_w, max_iters, gamma)\n",
    "y_pr = predict_labels(w, tX_te)\n",
    "acc_1 = compute_accuracy(y_te, y_pr)"
   ]
  },
  {
   "cell_type": "code",
   "execution_count": 29,
   "metadata": {},
   "outputs": [
    {
     "data": {
      "text/html": [
       "<div>\n",
       "<style scoped>\n",
       "    .dataframe tbody tr th:only-of-type {\n",
       "        vertical-align: middle;\n",
       "    }\n",
       "\n",
       "    .dataframe tbody tr th {\n",
       "        vertical-align: top;\n",
       "    }\n",
       "\n",
       "    .dataframe thead th {\n",
       "        text-align: right;\n",
       "    }\n",
       "</style>\n",
       "<table border=\"1\" class=\"dataframe\">\n",
       "  <thead>\n",
       "    <tr style=\"text-align: right;\">\n",
       "      <th></th>\n",
       "      <th>Configuration</th>\n",
       "      <th>Accuracy</th>\n",
       "    </tr>\n",
       "  </thead>\n",
       "  <tbody>\n",
       "    <tr>\n",
       "      <th>0</th>\n",
       "      <td>Raw data</td>\n",
       "      <td>0.6621</td>\n",
       "    </tr>\n",
       "    <tr>\n",
       "      <th>1</th>\n",
       "      <td>Raw data + added bias</td>\n",
       "      <td>0.6621</td>\n",
       "    </tr>\n",
       "  </tbody>\n",
       "</table>\n",
       "</div>"
      ],
      "text/plain": [
       "           Configuration  Accuracy\n",
       "0               Raw data    0.6621\n",
       "1  Raw data + added bias    0.6621"
      ]
     },
     "execution_count": 29,
     "metadata": {},
     "output_type": "execute_result"
    }
   ],
   "source": [
    "results.loc[len(results)] = (\"Raw data + added bias\", acc_1)\n",
    "results"
   ]
  },
  {
   "cell_type": "markdown",
   "metadata": {},
   "source": [
    "#### Option 2 Add bias, impute missing values"
   ]
  },
  {
   "cell_type": "code",
   "execution_count": 30,
   "metadata": {},
   "outputs": [],
   "source": [
    "tX_2 = tX.copy()"
   ]
  },
  {
   "cell_type": "code",
   "execution_count": 31,
   "metadata": {},
   "outputs": [],
   "source": [
    "# Add bias\n",
    "tX_2 = np.hstack((tX_2, np.ones((tX_2.shape[0], 1))))\n",
    "feature_names_2 = np.append(feature_names, \"bias\")"
   ]
  },
  {
   "cell_type": "code",
   "execution_count": 32,
   "metadata": {},
   "outputs": [
    {
     "name": "stdout",
     "output_type": "stream",
     "text": [
      "Feature index 0, filling_value 121.85852835958957\n",
      "Feature index 4, filling_value 2.4037350261224373\n",
      "Feature index 5, filling_value 371.78336044828586\n",
      "Feature index 6, filling_value -0.8216881711536604\n",
      "Feature index 12, filling_value 0.45828980053209817\n",
      "Feature index 23, filling_value 84.82210453270434\n",
      "Feature index 24, filling_value -0.0032745874059712044\n",
      "Feature index 25, filling_value -0.012392825494546494\n",
      "Feature index 26, filling_value 57.67947442206691\n",
      "Feature index 27, filling_value -0.01184526418813669\n",
      "Feature index 28, filling_value -0.001582289125070648\n"
     ]
    }
   ],
   "source": [
    "# Impute missing values\n",
    "tX_2 = fill_missing_values(tX_2, mute=False)"
   ]
  },
  {
   "cell_type": "code",
   "execution_count": 33,
   "metadata": {},
   "outputs": [],
   "source": [
    "y_2 = y # No changes in y vector"
   ]
  },
  {
   "cell_type": "code",
   "execution_count": 34,
   "metadata": {},
   "outputs": [
    {
     "name": "stdout",
     "output_type": "stream",
     "text": [
      "Feature num: 31\n"
     ]
    }
   ],
   "source": [
    "print(f\"Feature num: {tX_2.shape[1]}\")"
   ]
  },
  {
   "cell_type": "code",
   "execution_count": 35,
   "metadata": {},
   "outputs": [],
   "source": [
    "tX_tr, y_tr, tX_te, y_te = split_data(tX_2, y_2, ratio=0.8, seed=1)"
   ]
  },
  {
   "cell_type": "code",
   "execution_count": 36,
   "metadata": {},
   "outputs": [],
   "source": [
    "initial_w = np.zeros((tX_tr.shape[1]))\n",
    "max_iters = 100\n",
    "gamma = 0.01\n",
    "w, _ = logistic_regression(y_tr, tX_tr, initial_w, max_iters, gamma)\n",
    "y_pr = predict_labels(w, tX_te)\n",
    "acc_2 = compute_accuracy(y_te, y_pr)"
   ]
  },
  {
   "cell_type": "code",
   "execution_count": 37,
   "metadata": {},
   "outputs": [
    {
     "data": {
      "text/html": [
       "<div>\n",
       "<style scoped>\n",
       "    .dataframe tbody tr th:only-of-type {\n",
       "        vertical-align: middle;\n",
       "    }\n",
       "\n",
       "    .dataframe tbody tr th {\n",
       "        vertical-align: top;\n",
       "    }\n",
       "\n",
       "    .dataframe thead th {\n",
       "        text-align: right;\n",
       "    }\n",
       "</style>\n",
       "<table border=\"1\" class=\"dataframe\">\n",
       "  <thead>\n",
       "    <tr style=\"text-align: right;\">\n",
       "      <th></th>\n",
       "      <th>Configuration</th>\n",
       "      <th>Accuracy</th>\n",
       "    </tr>\n",
       "  </thead>\n",
       "  <tbody>\n",
       "    <tr>\n",
       "      <th>0</th>\n",
       "      <td>Raw data</td>\n",
       "      <td>0.6621</td>\n",
       "    </tr>\n",
       "    <tr>\n",
       "      <th>1</th>\n",
       "      <td>Raw data + added bias</td>\n",
       "      <td>0.6621</td>\n",
       "    </tr>\n",
       "    <tr>\n",
       "      <th>2</th>\n",
       "      <td>Raw data + bias + imputed missing values</td>\n",
       "      <td>0.6554</td>\n",
       "    </tr>\n",
       "  </tbody>\n",
       "</table>\n",
       "</div>"
      ],
      "text/plain": [
       "                              Configuration  Accuracy\n",
       "0                                  Raw data    0.6621\n",
       "1                     Raw data + added bias    0.6621\n",
       "2  Raw data + bias + imputed missing values    0.6554"
      ]
     },
     "execution_count": 37,
     "metadata": {},
     "output_type": "execute_result"
    }
   ],
   "source": [
    "results.loc[len(results)] = (\"Raw data + bias + imputed missing values\", acc_2)\n",
    "results"
   ]
  },
  {
   "cell_type": "markdown",
   "metadata": {},
   "source": [
    "#### Option 3 Add bias, impute missing values, add squares of variables"
   ]
  },
  {
   "cell_type": "code",
   "execution_count": 38,
   "metadata": {},
   "outputs": [],
   "source": [
    "tX_3 = tX.copy()"
   ]
  },
  {
   "cell_type": "code",
   "execution_count": 39,
   "metadata": {},
   "outputs": [],
   "source": [
    "# Add bias\n",
    "tX_3 = np.hstack((tX_3, np.ones((tX_3.shape[0], 1))))\n",
    "feature_names_3 = np.append(feature_names, \"bias\")"
   ]
  },
  {
   "cell_type": "code",
   "execution_count": 40,
   "metadata": {},
   "outputs": [
    {
     "name": "stdout",
     "output_type": "stream",
     "text": [
      "Feature index 0, filling_value 121.85852835958957\n",
      "Feature index 4, filling_value 2.4037350261224373\n",
      "Feature index 5, filling_value 371.78336044828586\n",
      "Feature index 6, filling_value -0.8216881711536604\n",
      "Feature index 12, filling_value 0.45828980053209817\n",
      "Feature index 23, filling_value 84.82210453270434\n",
      "Feature index 24, filling_value -0.0032745874059712044\n",
      "Feature index 25, filling_value -0.012392825494546494\n",
      "Feature index 26, filling_value 57.67947442206691\n",
      "Feature index 27, filling_value -0.01184526418813669\n",
      "Feature index 28, filling_value -0.001582289125070648\n"
     ]
    }
   ],
   "source": [
    "# Impute missing values\n",
    "tX_3 = fill_missing_values(tX_3, mute=False)"
   ]
  },
  {
   "cell_type": "code",
   "execution_count": 41,
   "metadata": {},
   "outputs": [],
   "source": [
    "# Add squares\n",
    "for feature_ind in range(0, tX.shape[1]): # First 30 features (not including bias)\n",
    "    tX_3 = np.hstack((tX_3, \n",
    "                      (tX_3[:, feature_ind] ** 2).reshape((tX.shape[0], 1))\n",
    "                     ))\n",
    "    feature_names_3 = np.append(feature_names_3, f\"({feature_names_3[feature_ind]})**2\")"
   ]
  },
  {
   "cell_type": "code",
   "execution_count": 42,
   "metadata": {},
   "outputs": [],
   "source": [
    "y_3 = y # No changes in y vector"
   ]
  },
  {
   "cell_type": "code",
   "execution_count": 43,
   "metadata": {},
   "outputs": [
    {
     "name": "stdout",
     "output_type": "stream",
     "text": [
      "Feature num: 61\n"
     ]
    }
   ],
   "source": [
    "print(f\"Feature num: {tX_3.shape[1]}\")"
   ]
  },
  {
   "cell_type": "code",
   "execution_count": 44,
   "metadata": {},
   "outputs": [],
   "source": [
    "tX_tr, y_tr, tX_te, y_te = split_data(tX_3, y_3, ratio=0.8, seed=1)"
   ]
  },
  {
   "cell_type": "code",
   "execution_count": 45,
   "metadata": {},
   "outputs": [],
   "source": [
    "initial_w = np.zeros((tX_tr.shape[1])) # np.random.normal(size=tX_tr.shape[1])\n",
    "max_iters = 100\n",
    "gamma = 0.01\n",
    "w, _ = logistic_regression(y_tr, tX_tr, initial_w, max_iters, gamma)\n",
    "y_pr = predict_labels(w, tX_te)\n",
    "acc_3 = compute_accuracy(y_te, y_pr)"
   ]
  },
  {
   "cell_type": "code",
   "execution_count": 46,
   "metadata": {},
   "outputs": [
    {
     "data": {
      "text/html": [
       "<div>\n",
       "<style scoped>\n",
       "    .dataframe tbody tr th:only-of-type {\n",
       "        vertical-align: middle;\n",
       "    }\n",
       "\n",
       "    .dataframe tbody tr th {\n",
       "        vertical-align: top;\n",
       "    }\n",
       "\n",
       "    .dataframe thead th {\n",
       "        text-align: right;\n",
       "    }\n",
       "</style>\n",
       "<table border=\"1\" class=\"dataframe\">\n",
       "  <thead>\n",
       "    <tr style=\"text-align: right;\">\n",
       "      <th></th>\n",
       "      <th>Configuration</th>\n",
       "      <th>Accuracy</th>\n",
       "    </tr>\n",
       "  </thead>\n",
       "  <tbody>\n",
       "    <tr>\n",
       "      <th>0</th>\n",
       "      <td>Raw data</td>\n",
       "      <td>0.6621</td>\n",
       "    </tr>\n",
       "    <tr>\n",
       "      <th>1</th>\n",
       "      <td>Raw data + added bias</td>\n",
       "      <td>0.6621</td>\n",
       "    </tr>\n",
       "    <tr>\n",
       "      <th>2</th>\n",
       "      <td>Raw data + bias + imputed missing values</td>\n",
       "      <td>0.6554</td>\n",
       "    </tr>\n",
       "    <tr>\n",
       "      <th>3</th>\n",
       "      <td>Raw data + bias + imputed missing values + added squares</td>\n",
       "      <td>0.6567</td>\n",
       "    </tr>\n",
       "  </tbody>\n",
       "</table>\n",
       "</div>"
      ],
      "text/plain": [
       "                                              Configuration  Accuracy\n",
       "0                                                  Raw data    0.6621\n",
       "1                                     Raw data + added bias    0.6621\n",
       "2                  Raw data + bias + imputed missing values    0.6554\n",
       "3  Raw data + bias + imputed missing values + added squares    0.6567"
      ]
     },
     "execution_count": 46,
     "metadata": {},
     "output_type": "execute_result"
    }
   ],
   "source": [
    "results.loc[len(results)] = (\"Raw data + bias + imputed missing values + added squares\", acc_3)\n",
    "results"
   ]
  },
  {
   "cell_type": "markdown",
   "metadata": {},
   "source": [
    "#### Option 4 initialize weights with normal distribution"
   ]
  },
  {
   "cell_type": "code",
   "execution_count": 47,
   "metadata": {},
   "outputs": [],
   "source": [
    "tX_tr, y_tr, tX_te, y_te = split_data(tX, y, ratio=0.8, seed=1)"
   ]
  },
  {
   "cell_type": "code",
   "execution_count": 48,
   "metadata": {},
   "outputs": [],
   "source": [
    "initial_w = np.random.normal(0, 1, size=tX_tr.shape[1])\n",
    "max_iters = 100\n",
    "gamma = 0.01\n",
    "w, _ = logistic_regression(y_tr, tX_tr, initial_w, max_iters, gamma)\n",
    "y_pr = predict_labels(w, tX_te)\n",
    "acc_4 = compute_accuracy(y_te, y_pr)"
   ]
  },
  {
   "cell_type": "code",
   "execution_count": 49,
   "metadata": {},
   "outputs": [
    {
     "data": {
      "text/html": [
       "<div>\n",
       "<style scoped>\n",
       "    .dataframe tbody tr th:only-of-type {\n",
       "        vertical-align: middle;\n",
       "    }\n",
       "\n",
       "    .dataframe tbody tr th {\n",
       "        vertical-align: top;\n",
       "    }\n",
       "\n",
       "    .dataframe thead th {\n",
       "        text-align: right;\n",
       "    }\n",
       "</style>\n",
       "<table border=\"1\" class=\"dataframe\">\n",
       "  <thead>\n",
       "    <tr style=\"text-align: right;\">\n",
       "      <th></th>\n",
       "      <th>Configuration</th>\n",
       "      <th>Accuracy</th>\n",
       "    </tr>\n",
       "  </thead>\n",
       "  <tbody>\n",
       "    <tr>\n",
       "      <th>0</th>\n",
       "      <td>Raw data</td>\n",
       "      <td>0.6621</td>\n",
       "    </tr>\n",
       "    <tr>\n",
       "      <th>1</th>\n",
       "      <td>Raw data + added bias</td>\n",
       "      <td>0.6621</td>\n",
       "    </tr>\n",
       "    <tr>\n",
       "      <th>2</th>\n",
       "      <td>Raw data + bias + imputed missing values</td>\n",
       "      <td>0.6554</td>\n",
       "    </tr>\n",
       "    <tr>\n",
       "      <th>3</th>\n",
       "      <td>Raw data + bias + imputed missing values + added squares</td>\n",
       "      <td>0.6567</td>\n",
       "    </tr>\n",
       "    <tr>\n",
       "      <th>4</th>\n",
       "      <td>Raw data + initilized weights with normal distrib</td>\n",
       "      <td>0.6621</td>\n",
       "    </tr>\n",
       "  </tbody>\n",
       "</table>\n",
       "</div>"
      ],
      "text/plain": [
       "                                              Configuration  Accuracy\n",
       "0                                                  Raw data    0.6621\n",
       "1                                     Raw data + added bias    0.6621\n",
       "2                  Raw data + bias + imputed missing values    0.6554\n",
       "3  Raw data + bias + imputed missing values + added squares    0.6567\n",
       "4         Raw data + initilized weights with normal distrib    0.6621"
      ]
     },
     "execution_count": 49,
     "metadata": {},
     "output_type": "execute_result"
    }
   ],
   "source": [
    "results.loc[len(results)] = (\"Raw data + initilized weights with normal distrib\", acc_4)\n",
    "results"
   ]
  },
  {
   "cell_type": "markdown",
   "metadata": {},
   "source": [
    "#### Option 5 Add bias, fill missing values, standardize data"
   ]
  },
  {
   "cell_type": "code",
   "execution_count": 50,
   "metadata": {},
   "outputs": [],
   "source": [
    "tX_5 = tX.copy()"
   ]
  },
  {
   "cell_type": "code",
   "execution_count": 51,
   "metadata": {},
   "outputs": [],
   "source": [
    "# Add bias\n",
    "tX_5 = np.hstack((tX_5, np.ones((tX_5.shape[0], 1))))\n",
    "feature_names_5 = np.append(feature_names, \"bias\")"
   ]
  },
  {
   "cell_type": "code",
   "execution_count": 52,
   "metadata": {},
   "outputs": [],
   "source": [
    "# Impute missing values\n",
    "tX_5 = fill_missing_values(tX_5)"
   ]
  },
  {
   "cell_type": "code",
   "execution_count": 53,
   "metadata": {
    "scrolled": false
   },
   "outputs": [],
   "source": [
    "tX_5 = standardize_matrix(tX_5)"
   ]
  },
  {
   "cell_type": "code",
   "execution_count": 54,
   "metadata": {},
   "outputs": [],
   "source": [
    "tX_tr, y_tr, tX_te, y_te = split_data(tX_5, y, ratio=0.8, seed=1)"
   ]
  },
  {
   "cell_type": "code",
   "execution_count": 55,
   "metadata": {},
   "outputs": [],
   "source": [
    "initial_w = np.random.normal(size=tX_tr.shape[1])\n",
    "max_iters = 100\n",
    "gamma = 0.01\n",
    "w, _ = logistic_regression(y_tr, tX_tr, initial_w, max_iters, gamma)\n",
    "y_pr = predict_labels(w, tX_te)\n",
    "acc_5 = compute_accuracy(y_te, y_pr)"
   ]
  },
  {
   "cell_type": "code",
   "execution_count": 56,
   "metadata": {},
   "outputs": [
    {
     "data": {
      "text/html": [
       "<div>\n",
       "<style scoped>\n",
       "    .dataframe tbody tr th:only-of-type {\n",
       "        vertical-align: middle;\n",
       "    }\n",
       "\n",
       "    .dataframe tbody tr th {\n",
       "        vertical-align: top;\n",
       "    }\n",
       "\n",
       "    .dataframe thead th {\n",
       "        text-align: right;\n",
       "    }\n",
       "</style>\n",
       "<table border=\"1\" class=\"dataframe\">\n",
       "  <thead>\n",
       "    <tr style=\"text-align: right;\">\n",
       "      <th></th>\n",
       "      <th>Configuration</th>\n",
       "      <th>Accuracy</th>\n",
       "    </tr>\n",
       "  </thead>\n",
       "  <tbody>\n",
       "    <tr>\n",
       "      <th>0</th>\n",
       "      <td>Raw data</td>\n",
       "      <td>0.6621</td>\n",
       "    </tr>\n",
       "    <tr>\n",
       "      <th>1</th>\n",
       "      <td>Raw data + added bias</td>\n",
       "      <td>0.6621</td>\n",
       "    </tr>\n",
       "    <tr>\n",
       "      <th>2</th>\n",
       "      <td>Raw data + bias + imputed missing values</td>\n",
       "      <td>0.6554</td>\n",
       "    </tr>\n",
       "    <tr>\n",
       "      <th>3</th>\n",
       "      <td>Raw data + bias + imputed missing values + added squares</td>\n",
       "      <td>0.6567</td>\n",
       "    </tr>\n",
       "    <tr>\n",
       "      <th>4</th>\n",
       "      <td>Raw data + initilized weights with normal distrib</td>\n",
       "      <td>0.6621</td>\n",
       "    </tr>\n",
       "    <tr>\n",
       "      <th>5</th>\n",
       "      <td>Raw data + bias + filled missing values + standardized data</td>\n",
       "      <td>0.4316</td>\n",
       "    </tr>\n",
       "  </tbody>\n",
       "</table>\n",
       "</div>"
      ],
      "text/plain": [
       "                                                 Configuration  Accuracy\n",
       "0                                                     Raw data    0.6621\n",
       "1                                        Raw data + added bias    0.6621\n",
       "2                     Raw data + bias + imputed missing values    0.6554\n",
       "3     Raw data + bias + imputed missing values + added squares    0.6567\n",
       "4            Raw data + initilized weights with normal distrib    0.6621\n",
       "5  Raw data + bias + filled missing values + standardized data    0.4316"
      ]
     },
     "execution_count": 56,
     "metadata": {},
     "output_type": "execute_result"
    }
   ],
   "source": [
    "results.loc[len(results)] = (\"Raw data + bias + filled missing values + standardized data\", acc_5)\n",
    "results"
   ]
  },
  {
   "cell_type": "markdown",
   "metadata": {},
   "source": [
    "#### Option 6 Take log of some features"
   ]
  },
  {
   "cell_type": "code",
   "execution_count": null,
   "metadata": {},
   "outputs": [],
   "source": []
  },
  {
   "cell_type": "code",
   "execution_count": null,
   "metadata": {},
   "outputs": [],
   "source": []
  },
  {
   "cell_type": "markdown",
   "metadata": {},
   "source": [
    "#### Option"
   ]
  },
  {
   "cell_type": "code",
   "execution_count": null,
   "metadata": {},
   "outputs": [],
   "source": []
  },
  {
   "cell_type": "code",
   "execution_count": null,
   "metadata": {},
   "outputs": [],
   "source": []
  },
  {
   "cell_type": "markdown",
   "metadata": {},
   "source": [
    "#### Option"
   ]
  },
  {
   "cell_type": "code",
   "execution_count": null,
   "metadata": {},
   "outputs": [],
   "source": []
  },
  {
   "cell_type": "code",
   "execution_count": null,
   "metadata": {},
   "outputs": [],
   "source": []
  },
  {
   "cell_type": "markdown",
   "metadata": {},
   "source": [
    "#### Option"
   ]
  },
  {
   "cell_type": "code",
   "execution_count": null,
   "metadata": {},
   "outputs": [],
   "source": []
  },
  {
   "cell_type": "code",
   "execution_count": null,
   "metadata": {},
   "outputs": [],
   "source": []
  },
  {
   "cell_type": "markdown",
   "metadata": {},
   "source": [
    "#### Option"
   ]
  },
  {
   "cell_type": "code",
   "execution_count": null,
   "metadata": {},
   "outputs": [],
   "source": []
  },
  {
   "cell_type": "code",
   "execution_count": null,
   "metadata": {},
   "outputs": [],
   "source": []
  },
  {
   "cell_type": "markdown",
   "metadata": {},
   "source": [
    "#### Option  Divide dataset into 4"
   ]
  },
  {
   "cell_type": "code",
   "execution_count": 57,
   "metadata": {},
   "outputs": [],
   "source": [
    "def extract_jet_num(y, tX):\n",
    "    jet_num_column = tX[:, 22]\n",
    "    jet_num_uniq = np.unique(tX[:, 22])\n",
    "\n",
    "    tX_jet_num_division = []\n",
    "    y_jet_num_division = []\n",
    "\n",
    "    for value in jet_num_uniq:\n",
    "        indices = np.where(jet_num_column == value)[0]\n",
    "        \n",
    "        tX_jet_num_division.append(np.hstack((tX[indices, :22], tX[indices, 23:])))\n",
    "        y_jet_num_division.append(y[indices])\n",
    "    \n",
    "    return tX_jet_num_division, y_jet_num_division"
   ]
  },
  {
   "cell_type": "code",
   "execution_count": 58,
   "metadata": {},
   "outputs": [],
   "source": [
    "tX_jet_num_division, y_jet_num_division = extract_jet_num(y, tX)"
   ]
  },
  {
   "cell_type": "code",
   "execution_count": 59,
   "metadata": {},
   "outputs": [
    {
     "name": "stdout",
     "output_type": "stream",
     "text": [
      "Class 0.0 value 99913 entries\n",
      "Class 1.0 value 77544 entries\n",
      "Class 2.0 value 50379 entries\n",
      "Class 3.0 value 22164 entries\n"
     ]
    }
   ],
   "source": [
    "jet_num_uniq = np.unique(tX[:, 22])\n",
    "for i, value in enumerate(jet_num_uniq):\n",
    "    print(f\"Class {value} value {len(tX_jet_num_division[i])} entries\")"
   ]
  },
  {
   "cell_type": "code",
   "execution_count": null,
   "metadata": {},
   "outputs": [],
   "source": []
  },
  {
   "cell_type": "code",
   "execution_count": null,
   "metadata": {},
   "outputs": [],
   "source": []
  },
  {
   "cell_type": "markdown",
   "metadata": {},
   "source": [
    "### Results"
   ]
  },
  {
   "cell_type": "code",
   "execution_count": 62,
   "metadata": {},
   "outputs": [
    {
     "data": {
      "text/html": [
       "<div>\n",
       "<style scoped>\n",
       "    .dataframe tbody tr th:only-of-type {\n",
       "        vertical-align: middle;\n",
       "    }\n",
       "\n",
       "    .dataframe tbody tr th {\n",
       "        vertical-align: top;\n",
       "    }\n",
       "\n",
       "    .dataframe thead th {\n",
       "        text-align: right;\n",
       "    }\n",
       "</style>\n",
       "<table border=\"1\" class=\"dataframe\">\n",
       "  <thead>\n",
       "    <tr style=\"text-align: right;\">\n",
       "      <th></th>\n",
       "      <th>Configuration</th>\n",
       "      <th>Accuracy</th>\n",
       "    </tr>\n",
       "  </thead>\n",
       "  <tbody>\n",
       "    <tr>\n",
       "      <th>0</th>\n",
       "      <td>Raw data</td>\n",
       "      <td>0.6621</td>\n",
       "    </tr>\n",
       "    <tr>\n",
       "      <th>1</th>\n",
       "      <td>Raw data + added bias</td>\n",
       "      <td>0.6621</td>\n",
       "    </tr>\n",
       "    <tr>\n",
       "      <th>4</th>\n",
       "      <td>Raw data + initilized weights with normal distrib</td>\n",
       "      <td>0.6621</td>\n",
       "    </tr>\n",
       "    <tr>\n",
       "      <th>3</th>\n",
       "      <td>Raw data + bias + imputed missing values + added squares</td>\n",
       "      <td>0.6567</td>\n",
       "    </tr>\n",
       "    <tr>\n",
       "      <th>2</th>\n",
       "      <td>Raw data + bias + imputed missing values</td>\n",
       "      <td>0.6554</td>\n",
       "    </tr>\n",
       "    <tr>\n",
       "      <th>5</th>\n",
       "      <td>Raw data + bias + filled missing values + standardized data</td>\n",
       "      <td>0.4316</td>\n",
       "    </tr>\n",
       "  </tbody>\n",
       "</table>\n",
       "</div>"
      ],
      "text/plain": [
       "                                                 Configuration  Accuracy\n",
       "0                                                     Raw data    0.6621\n",
       "1                                        Raw data + added bias    0.6621\n",
       "4            Raw data + initilized weights with normal distrib    0.6621\n",
       "3     Raw data + bias + imputed missing values + added squares    0.6567\n",
       "2                     Raw data + bias + imputed missing values    0.6554\n",
       "5  Raw data + bias + filled missing values + standardized data    0.4316"
      ]
     },
     "execution_count": 62,
     "metadata": {},
     "output_type": "execute_result"
    }
   ],
   "source": [
    "results.sort_values(\"Accuracy\", ascending=False)"
   ]
  },
  {
   "cell_type": "markdown",
   "metadata": {},
   "source": [
    "## Generate predictions and save ouput in csv format for submission:"
   ]
  },
  {
   "cell_type": "code",
   "execution_count": 60,
   "metadata": {
    "pycharm": {
     "is_executing": false
    }
   },
   "outputs": [],
   "source": [
    "DATA_TEST_PATH = '../data/test.csv' # TODO: download train data and supply path here \n",
    "_, tX_test, ids_test = load_csv_data(DATA_TEST_PATH)"
   ]
  },
  {
   "cell_type": "code",
   "execution_count": 61,
   "metadata": {
    "pycharm": {
     "is_executing": false
    }
   },
   "outputs": [
    {
     "ename": "NameError",
     "evalue": "name 'weights' is not defined",
     "output_type": "error",
     "traceback": [
      "\u001b[1;31m---------------------------------------------------------------------------\u001b[0m",
      "\u001b[1;31mNameError\u001b[0m                                 Traceback (most recent call last)",
      "\u001b[1;32m<ipython-input-61-e693d1a67de5>\u001b[0m in \u001b[0;36m<module>\u001b[1;34m\u001b[0m\n\u001b[0;32m      1\u001b[0m \u001b[0mOUTPUT_PATH\u001b[0m \u001b[1;33m=\u001b[0m \u001b[1;34m'../submission.csv'\u001b[0m \u001b[1;31m# TODO: fill in desired name of output file for submission\u001b[0m\u001b[1;33m\u001b[0m\u001b[1;33m\u001b[0m\u001b[0m\n\u001b[1;32m----> 2\u001b[1;33m \u001b[0my_pred\u001b[0m \u001b[1;33m=\u001b[0m \u001b[0mpredict_labels\u001b[0m\u001b[1;33m(\u001b[0m\u001b[0mweights\u001b[0m\u001b[1;33m,\u001b[0m \u001b[0mtX_test\u001b[0m\u001b[1;33m)\u001b[0m\u001b[1;33m\u001b[0m\u001b[1;33m\u001b[0m\u001b[0m\n\u001b[0m\u001b[0;32m      3\u001b[0m \u001b[0mcreate_csv_submission\u001b[0m\u001b[1;33m(\u001b[0m\u001b[0mids_test\u001b[0m\u001b[1;33m,\u001b[0m \u001b[0my_pred\u001b[0m\u001b[1;33m,\u001b[0m \u001b[0mOUTPUT_PATH\u001b[0m\u001b[1;33m)\u001b[0m\u001b[1;33m\u001b[0m\u001b[1;33m\u001b[0m\u001b[0m\n",
      "\u001b[1;31mNameError\u001b[0m: name 'weights' is not defined"
     ]
    }
   ],
   "source": [
    "OUTPUT_PATH = '../submission.csv' # TODO: fill in desired name of output file for submission\n",
    "y_pred = predict_labels(weights, tX_test)\n",
    "create_csv_submission(ids_test, y_pred, OUTPUT_PATH)"
   ]
  },
  {
   "cell_type": "code",
   "execution_count": null,
   "metadata": {
    "pycharm": {
     "is_executing": false
    }
   },
   "outputs": [],
   "source": []
  }
 ],
 "metadata": {
  "anaconda-cloud": {},
  "kernelspec": {
   "display_name": "Python 3",
   "language": "python",
   "name": "python3"
  },
  "language_info": {
   "codemirror_mode": {
    "name": "ipython",
    "version": 3
   },
   "file_extension": ".py",
   "mimetype": "text/x-python",
   "name": "python",
   "nbconvert_exporter": "python",
   "pygments_lexer": "ipython3",
   "version": "3.7.1"
  },
  "pycharm": {
   "stem_cell": {
    "cell_type": "raw",
    "metadata": {
     "collapsed": false
    },
    "source": []
   }
  }
 },
 "nbformat": 4,
 "nbformat_minor": 1
}
